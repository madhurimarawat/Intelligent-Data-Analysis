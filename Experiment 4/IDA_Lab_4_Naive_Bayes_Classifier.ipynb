{
  "nbformat": 4,
  "nbformat_minor": 0,
  "metadata": {
    "colab": {
      "provenance": []
    },
    "kernelspec": {
      "name": "python3",
      "display_name": "Python 3"
    },
    "language_info": {
      "name": "python"
    }
  },
  "cells": [
    {
      "cell_type": "markdown",
      "source": [
        "# Experiment 4\n",
        "## Implement classification rules process on dataset using Naive Bayes algorithm."
      ],
      "metadata": {
        "id": "-8SdDOiYG20Y"
      }
    },
    {
      "cell_type": "markdown",
      "source": [
        "## Naive Bayes Classifier\n",
        "\n",
        "- **Bayesian Probability**: Naive Bayes is based on Bayes' theorem, which calculates the probability of an event based on prior knowledge and relevant evidence.\n",
        "\n",
        " - Bayes' theorem is used to calculate the conditional probability of an event (A) given prior knowledge of another related event (B). The formula is expressed as:\n",
        "\n",
        "  - ` P(A|B) = (P(B|A) * P(A)) / P(B)`\n",
        "\n",
        "  Where:\n",
        "  - \\(P(A|B)\\) is the conditional probability of event A given event B.\n",
        "  - \\(P(B|A)\\) is the conditional probability of event B given event A.\n",
        "  - \\(P(A)\\) is the prior probability of event A.\n",
        "  - \\(P(B)\\) is the prior probability of event B.\n",
        "\n",
        " In the context of Naive Bayes classification, \\(P(A|B)\\) represents the probability of a particular class (A) given a set of observed features (B), and it's calculated using prior probabilities and likelihoods as explained in the previous response.\n",
        "\n",
        "- **Naive Assumption**: It assumes feature independence, meaning that each feature is considered independent of others. This simplifies calculations, making it \"naive.\"\n",
        "\n",
        "- **Training Phase**:\n",
        "  - **Data Collection**: Collect a labeled dataset with features and corresponding class labels.\n",
        "  - **Prior Probabilities**: Calculate prior probabilities of each class (the probability that an instance belongs to each class).\n",
        "  - **Likelihood Estimation**: Estimate the likelihood of each feature given each class (conditional probabilities).\n",
        "  - **Class Priors**: Calculate class priors based on the frequency of each class in the dataset.\n",
        "\n",
        "- **Prediction Phase**:\n",
        "  - **Input Features**: Given a new instance with features, calculate the likelihood of each feature for each class.\n",
        "  - **Posterior Probabilities**: Use Bayes' theorem to calculate the posterior probabilities for each class based on the prior probabilities, class priors, and likelihoods.\n",
        "  - **Classification**: Assign the class with the highest posterior probability as the predicted class.\n",
        "\n",
        "- **Smoothing** (Optional):\n",
        "  - To handle cases where a feature doesn't appear in the training data for a particular class, smoothing techniques like Laplace smoothing can be applied to avoid zero probabilities.\n",
        "\n",
        "- **Applications**: Naive Bayes is commonly used in text classification (e.g., spam detection and sentiment analysis) and other classification tasks.\n",
        "\n",
        "- **Strengths**:\n",
        "  - Simple and computationally efficient.\n",
        "  - Can handle high-dimensional data.\n",
        "  - Often works well for text data.\n",
        "\n",
        "- **Limitations**:\n",
        "  - The independence assumption might not hold in some real-world scenarios.\n",
        "  - Can be sensitive to irrelevant features.\n",
        "  - May not perform well when classes are highly imbalanced.\n",
        "\n",
        "- **Variants**: There are different variants of Naive Bayes, such as Multinomial Naive Bayes for text data and Gaussian Naive Bayes for continuous data.\n",
        "\n",
        "- **Real-Life Example**: In spam email classification, Naive Bayes calculates the probability that an email is spam or not based on the likelihood of certain words or phrases appearing in spam or non-spam emails."
      ],
      "metadata": {
        "id": "4JsTYLj3rae4"
      }
    },
    {
      "cell_type": "code",
      "source": [
        "# Import necessary libraries\n",
        "import numpy as np\n",
        "import pandas as pd\n",
        "from sklearn.model_selection import train_test_split\n",
        "from sklearn.naive_bayes import GaussianNB\n",
        "from sklearn.metrics import classification_report, confusion_matrix\n",
        "\n",
        "# Load the Iris dataset\n",
        "from sklearn.datasets import load_iris\n",
        "iris = load_iris()\n",
        "X = iris.data\n",
        "y = iris.target\n",
        "\n",
        "# Split the dataset into training and testing sets\n",
        "X_train, X_test, y_train, y_test = train_test_split(X, y, test_size=0.3, random_state=42)\n",
        "\n",
        "# Create a Naive Bayes classifier (Gaussian Naive Bayes)\n",
        "classifier = GaussianNB()\n",
        "\n",
        "# Train the classifier on the training data\n",
        "classifier.fit(X_train, y_train)\n",
        "\n",
        "# Make predictions on the testing data\n",
        "y_pred = classifier.predict(X_test)\n",
        "\n",
        "# Evaluate the classifier's performance\n",
        "confusion_mat = confusion_matrix(y_test, y_pred)\n",
        "classification_rep = classification_report(y_test, y_pred, target_names=iris.target_names)\n",
        "\n",
        "# Print the results\n",
        "print(\"Confusion Matrix:\\n\", confusion_mat)\n",
        "print(\"\\nClassification Report:\\n\", classification_rep)"
      ],
      "metadata": {
        "id": "VKY_CL-KQDom",
        "colab": {
          "base_uri": "https://localhost:8080/"
        },
        "outputId": "b5dddf3b-95da-40a4-9a73-06f74f241a97"
      },
      "execution_count": null,
      "outputs": [
        {
          "output_type": "stream",
          "name": "stdout",
          "text": [
            "Confusion Matrix:\n",
            " [[19  0  0]\n",
            " [ 0 12  1]\n",
            " [ 0  0 13]]\n",
            "\n",
            "Classification Report:\n",
            "               precision    recall  f1-score   support\n",
            "\n",
            "      setosa       1.00      1.00      1.00        19\n",
            "  versicolor       1.00      0.92      0.96        13\n",
            "   virginica       0.93      1.00      0.96        13\n",
            "\n",
            "    accuracy                           0.98        45\n",
            "   macro avg       0.98      0.97      0.97        45\n",
            "weighted avg       0.98      0.98      0.98        45\n",
            "\n"
          ]
        }
      ]
    },
    {
      "cell_type": "code",
      "source": [],
      "metadata": {
        "id": "a8C9zMEbHzmR"
      },
      "execution_count": null,
      "outputs": []
    }
  ]
}