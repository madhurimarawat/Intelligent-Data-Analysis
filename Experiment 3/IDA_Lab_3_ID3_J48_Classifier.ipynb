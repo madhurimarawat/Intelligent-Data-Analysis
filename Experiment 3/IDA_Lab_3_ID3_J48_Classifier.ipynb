{
  "cells": [
    {
      "cell_type": "markdown",
      "metadata": {
        "id": "w7v2z64iUDsE"
      },
      "source": [
        "# Experiment 3\n",
        "## Demonstration of classification rules process on dataset of your choice using ID3 and J48 algorithm."
      ]
    },
    {
      "cell_type": "markdown",
      "source": [
        "**ID3 (Iterative Dichotomiser 3):**\n",
        "1. **Initialization**: Start with the entire dataset and a root node for the decision tree.\n",
        "\n",
        "2. **Attribute Selection**: Select the best attribute to split the data. ID3 uses the concept of information gain, which measures the reduction in uncertainty (entropy) achieved by splitting based on a particular attribute. It chooses the attribute with the highest information gain.\n",
        "\n",
        "3. **Splitting**: Create child nodes for each possible value of the selected attribute and divide the data accordingly.\n",
        "\n",
        "4. **Recursion**: Recursively repeat the process for each child node until a stopping criterion is met, such as a predefined tree depth or no more attributes to split.\n",
        "\n",
        "5. **Stopping Criteria**: Stop when one of the stopping criteria is met, typically when all instances in a node belong to the same class, or when there are no more attributes to split.\n",
        "\n",
        "6. **Tree Generation**: The result is a tree where each leaf node represents a class, and internal nodes represent attribute splits.\n",
        "\n",
        "7. **Pruning** (not in ID3): ID3 does not support pruning, which may lead to overfitting.\n",
        "\n",
        "8. **Prediction**: To classify a new instance, traverse the tree from the root to a leaf node based on attribute values, and the class of the leaf node is the predicted class.\n",
        "\n",
        "**J48 (C4.5):**\n",
        "J48, an improvement over ID3, works as follows:\n",
        "\n",
        "1. **Initialization**: Start with the entire dataset and a root node for the decision tree.\n",
        "\n",
        "2. **Attribute Selection**: Instead of information gain, J48 uses the gain ratio, which takes into account the number of branches created by an attribute. It aims to create more balanced trees.\n",
        "\n",
        "3. **Splitting**: Similar to ID3, create child nodes for each possible value of the selected attribute and divide the data.\n",
        "\n",
        "4. **Pruning**: J48 supports pruning, a process where the algorithm trims branches of the tree that do not improve classification accuracy. This helps avoid overfitting.\n",
        "\n",
        "5. **Continuous Attributes**: J48 can handle both discrete and continuous data by converting continuous attributes into discrete ones through a process called binary splits.\n",
        "\n",
        "6. **Stopping Criteria**: Like ID3, J48 stops when certain criteria are met, such as pure leaf nodes or attribute exhaustion.\n",
        "\n",
        "7. **Tree Generation**: The result is a decision tree, which may be pruned to improve generalization.\n",
        "\n",
        "8. **Prediction**: To classify a new instance, traverse the tree from the root to a leaf node based on attribute values, and the class of the leaf node is the predicted class.\n",
        "\n",
        "In summary, ID3 and J48/C4.5 are decision tree algorithms that build trees to make predictions based on input data. J48 improves upon ID3 by using gain ratio for attribute selection and supporting pruning to prevent overfitting."
      ],
      "metadata": {
        "id": "JUbb1-P3pwpC"
      }
    },
    {
      "cell_type": "code",
      "execution_count": null,
      "metadata": {
        "colab": {
          "base_uri": "https://localhost:8080/",
          "height": 74
        },
        "id": "Mi4PSw_CULID",
        "outputId": "bd087689-cfff-45cd-e188-f7b99b685854"
      },
      "outputs": [
        {
          "output_type": "execute_result",
          "data": {
            "text/plain": [
              "DecisionTreeClassifier(random_state=42)"
            ],
            "text/html": [
              "<style>#sk-container-id-2 {color: black;background-color: white;}#sk-container-id-2 pre{padding: 0;}#sk-container-id-2 div.sk-toggleable {background-color: white;}#sk-container-id-2 label.sk-toggleable__label {cursor: pointer;display: block;width: 100%;margin-bottom: 0;padding: 0.3em;box-sizing: border-box;text-align: center;}#sk-container-id-2 label.sk-toggleable__label-arrow:before {content: \"▸\";float: left;margin-right: 0.25em;color: #696969;}#sk-container-id-2 label.sk-toggleable__label-arrow:hover:before {color: black;}#sk-container-id-2 div.sk-estimator:hover label.sk-toggleable__label-arrow:before {color: black;}#sk-container-id-2 div.sk-toggleable__content {max-height: 0;max-width: 0;overflow: hidden;text-align: left;background-color: #f0f8ff;}#sk-container-id-2 div.sk-toggleable__content pre {margin: 0.2em;color: black;border-radius: 0.25em;background-color: #f0f8ff;}#sk-container-id-2 input.sk-toggleable__control:checked~div.sk-toggleable__content {max-height: 200px;max-width: 100%;overflow: auto;}#sk-container-id-2 input.sk-toggleable__control:checked~label.sk-toggleable__label-arrow:before {content: \"▾\";}#sk-container-id-2 div.sk-estimator input.sk-toggleable__control:checked~label.sk-toggleable__label {background-color: #d4ebff;}#sk-container-id-2 div.sk-label input.sk-toggleable__control:checked~label.sk-toggleable__label {background-color: #d4ebff;}#sk-container-id-2 input.sk-hidden--visually {border: 0;clip: rect(1px 1px 1px 1px);clip: rect(1px, 1px, 1px, 1px);height: 1px;margin: -1px;overflow: hidden;padding: 0;position: absolute;width: 1px;}#sk-container-id-2 div.sk-estimator {font-family: monospace;background-color: #f0f8ff;border: 1px dotted black;border-radius: 0.25em;box-sizing: border-box;margin-bottom: 0.5em;}#sk-container-id-2 div.sk-estimator:hover {background-color: #d4ebff;}#sk-container-id-2 div.sk-parallel-item::after {content: \"\";width: 100%;border-bottom: 1px solid gray;flex-grow: 1;}#sk-container-id-2 div.sk-label:hover label.sk-toggleable__label {background-color: #d4ebff;}#sk-container-id-2 div.sk-serial::before {content: \"\";position: absolute;border-left: 1px solid gray;box-sizing: border-box;top: 0;bottom: 0;left: 50%;z-index: 0;}#sk-container-id-2 div.sk-serial {display: flex;flex-direction: column;align-items: center;background-color: white;padding-right: 0.2em;padding-left: 0.2em;position: relative;}#sk-container-id-2 div.sk-item {position: relative;z-index: 1;}#sk-container-id-2 div.sk-parallel {display: flex;align-items: stretch;justify-content: center;background-color: white;position: relative;}#sk-container-id-2 div.sk-item::before, #sk-container-id-2 div.sk-parallel-item::before {content: \"\";position: absolute;border-left: 1px solid gray;box-sizing: border-box;top: 0;bottom: 0;left: 50%;z-index: -1;}#sk-container-id-2 div.sk-parallel-item {display: flex;flex-direction: column;z-index: 1;position: relative;background-color: white;}#sk-container-id-2 div.sk-parallel-item:first-child::after {align-self: flex-end;width: 50%;}#sk-container-id-2 div.sk-parallel-item:last-child::after {align-self: flex-start;width: 50%;}#sk-container-id-2 div.sk-parallel-item:only-child::after {width: 0;}#sk-container-id-2 div.sk-dashed-wrapped {border: 1px dashed gray;margin: 0 0.4em 0.5em 0.4em;box-sizing: border-box;padding-bottom: 0.4em;background-color: white;}#sk-container-id-2 div.sk-label label {font-family: monospace;font-weight: bold;display: inline-block;line-height: 1.2em;}#sk-container-id-2 div.sk-label-container {text-align: center;}#sk-container-id-2 div.sk-container {/* jupyter's `normalize.less` sets `[hidden] { display: none; }` but bootstrap.min.css set `[hidden] { display: none !important; }` so we also need the `!important` here to be able to override the default hidden behavior on the sphinx rendered scikit-learn.org. See: https://github.com/scikit-learn/scikit-learn/issues/21755 */display: inline-block !important;position: relative;}#sk-container-id-2 div.sk-text-repr-fallback {display: none;}</style><div id=\"sk-container-id-2\" class=\"sk-top-container\"><div class=\"sk-text-repr-fallback\"><pre>DecisionTreeClassifier(random_state=42)</pre><b>In a Jupyter environment, please rerun this cell to show the HTML representation or trust the notebook. <br />On GitHub, the HTML representation is unable to render, please try loading this page with nbviewer.org.</b></div><div class=\"sk-container\" hidden><div class=\"sk-item\"><div class=\"sk-estimator sk-toggleable\"><input class=\"sk-toggleable__control sk-hidden--visually\" id=\"sk-estimator-id-2\" type=\"checkbox\" checked><label for=\"sk-estimator-id-2\" class=\"sk-toggleable__label sk-toggleable__label-arrow\">DecisionTreeClassifier</label><div class=\"sk-toggleable__content\"><pre>DecisionTreeClassifier(random_state=42)</pre></div></div></div></div></div>"
            ]
          },
          "metadata": {},
          "execution_count": 2
        }
      ],
      "source": [
        "# Import necessary libraries\n",
        "from sklearn.datasets import load_iris\n",
        "from sklearn.tree import DecisionTreeClassifier, export_text, export_graphviz\n",
        "from sklearn.model_selection import train_test_split\n",
        "import graphviz\n",
        "\n",
        "# Load the Iris dataset\n",
        "iris = load_iris()\n",
        "X = iris.data\n",
        "y = iris.target\n",
        "\n",
        "# Split the dataset into training and testing sets\n",
        "X_train, X_test, y_train, y_test = train_test_split(X, y, test_size=0.3, random_state=42)\n",
        "\n",
        "# ID3 Algorithm\n",
        "id3_classifier = DecisionTreeClassifier(criterion='entropy', random_state=42)\n",
        "id3_classifier.fit(X_train, y_train)\n",
        "\n",
        "# J48 (C4.5) Algorithm\n",
        "j48_classifier = DecisionTreeClassifier(criterion='gini', random_state=42)\n",
        "j48_classifier.fit(X_train, y_train)"
      ]
    },
    {
      "cell_type": "code",
      "execution_count": null,
      "metadata": {
        "colab": {
          "base_uri": "https://localhost:8080/"
        },
        "id": "kP8-u8snMvAX",
        "outputId": "b6771234-7cd6-4408-f515-34d49d494c83"
      },
      "outputs": [
        {
          "output_type": "stream",
          "name": "stdout",
          "text": [
            "ID3 Decision Tree Rules:\n",
            " |--- petal length (cm) <= 2.45\n",
            "|   |--- class: 0\n",
            "|--- petal length (cm) >  2.45\n",
            "|   |--- petal length (cm) <= 4.75\n",
            "|   |   |--- petal width (cm) <= 1.60\n",
            "|   |   |   |--- class: 1\n",
            "|   |   |--- petal width (cm) >  1.60\n",
            "|   |   |   |--- class: 2\n",
            "|   |--- petal length (cm) >  4.75\n",
            "|   |   |--- petal length (cm) <= 5.15\n",
            "|   |   |   |--- petal width (cm) <= 1.75\n",
            "|   |   |   |   |--- sepal width (cm) <= 2.35\n",
            "|   |   |   |   |   |--- class: 2\n",
            "|   |   |   |   |--- sepal width (cm) >  2.35\n",
            "|   |   |   |   |   |--- petal length (cm) <= 5.05\n",
            "|   |   |   |   |   |   |--- class: 1\n",
            "|   |   |   |   |   |--- petal length (cm) >  5.05\n",
            "|   |   |   |   |   |   |--- sepal length (cm) <= 6.15\n",
            "|   |   |   |   |   |   |   |--- class: 1\n",
            "|   |   |   |   |   |   |--- sepal length (cm) >  6.15\n",
            "|   |   |   |   |   |   |   |--- class: 2\n",
            "|   |   |   |--- petal width (cm) >  1.75\n",
            "|   |   |   |   |--- sepal width (cm) <= 3.10\n",
            "|   |   |   |   |   |--- class: 2\n",
            "|   |   |   |   |--- sepal width (cm) >  3.10\n",
            "|   |   |   |   |   |--- class: 1\n",
            "|   |   |--- petal length (cm) >  5.15\n",
            "|   |   |   |--- class: 2\n",
            "\n",
            "\n",
            "J48 (C4.5) Decision Tree Rules:\n",
            " |--- petal length (cm) <= 2.45\n",
            "|   |--- class: 0\n",
            "|--- petal length (cm) >  2.45\n",
            "|   |--- petal length (cm) <= 4.75\n",
            "|   |   |--- petal width (cm) <= 1.60\n",
            "|   |   |   |--- class: 1\n",
            "|   |   |--- petal width (cm) >  1.60\n",
            "|   |   |   |--- class: 2\n",
            "|   |--- petal length (cm) >  4.75\n",
            "|   |   |--- petal width (cm) <= 1.75\n",
            "|   |   |   |--- petal length (cm) <= 4.95\n",
            "|   |   |   |   |--- class: 1\n",
            "|   |   |   |--- petal length (cm) >  4.95\n",
            "|   |   |   |   |--- petal width (cm) <= 1.55\n",
            "|   |   |   |   |   |--- class: 2\n",
            "|   |   |   |   |--- petal width (cm) >  1.55\n",
            "|   |   |   |   |   |--- petal length (cm) <= 5.45\n",
            "|   |   |   |   |   |   |--- class: 1\n",
            "|   |   |   |   |   |--- petal length (cm) >  5.45\n",
            "|   |   |   |   |   |   |--- class: 2\n",
            "|   |   |--- petal width (cm) >  1.75\n",
            "|   |   |   |--- petal length (cm) <= 4.85\n",
            "|   |   |   |   |--- sepal width (cm) <= 3.10\n",
            "|   |   |   |   |   |--- class: 2\n",
            "|   |   |   |   |--- sepal width (cm) >  3.10\n",
            "|   |   |   |   |   |--- class: 1\n",
            "|   |   |   |--- petal length (cm) >  4.85\n",
            "|   |   |   |   |--- class: 2\n",
            "\n"
          ]
        }
      ],
      "source": [
        "# Print the ID3 decision tree rules\n",
        "id3_rules = export_text(id3_classifier, feature_names=iris.feature_names)\n",
        "print(\"ID3 Decision Tree Rules:\\n\", id3_rules)\n",
        "\n",
        "# Print the J48 (C4.5) decision tree rules\n",
        "j48_rules = export_text(j48_classifier, feature_names=iris.feature_names)\n",
        "print(\"\\nJ48 (C4.5) Decision Tree Rules:\\n\", j48_rules)"
      ]
    },
    {
      "cell_type": "code",
      "execution_count": null,
      "metadata": {
        "colab": {
          "base_uri": "https://localhost:8080/",
          "height": 35
        },
        "id": "QnvLerlfMyet",
        "outputId": "e17db69a-11d2-42de-dda2-7b08d5a713b3"
      },
      "outputs": [
        {
          "output_type": "execute_result",
          "data": {
            "text/plain": [
              "'J48_decision_tree.pdf'"
            ],
            "application/vnd.google.colaboratory.intrinsic+json": {
              "type": "string"
            }
          },
          "metadata": {},
          "execution_count": 5
        }
      ],
      "source": [
        "# Visualize the ID3 decision tree (requires graphviz)\n",
        "dot_data_id3 = export_graphviz(id3_classifier, out_file=None, feature_names=iris.feature_names, filled=True, rounded=True)\n",
        "graph_id3 = graphviz.Source(dot_data_id3)\n",
        "graph_id3.render(\"ID3_decision_tree\")\n",
        "\n",
        "# Visualize the J48 (C4.5) decision tree (requires graphviz)\n",
        "dot_data_j48 = export_graphviz(j48_classifier, out_file=None, feature_names=iris.feature_names, filled=True, rounded=True)\n",
        "graph_j48 = graphviz.Source(dot_data_j48)\n",
        "graph_j48.render(\"J48_decision_tree\")"
      ]
    },
    {
      "cell_type": "code",
      "execution_count": null,
      "metadata": {
        "id": "G-JLDLx3M1Nt"
      },
      "outputs": [],
      "source": []
    }
  ],
  "metadata": {
    "colab": {
      "provenance": []
    },
    "kernelspec": {
      "display_name": "Python 3",
      "name": "python3"
    },
    "language_info": {
      "name": "python"
    }
  },
  "nbformat": 4,
  "nbformat_minor": 0
}